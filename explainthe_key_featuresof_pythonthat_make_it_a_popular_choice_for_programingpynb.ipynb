{
  "nbformat": 4,
  "nbformat_minor": 0,
  "metadata": {
    "colab": {
      "provenance": [],
      "toc_visible": true,
      "authorship_tag": "ABX9TyMnXxVtJ3Y5Qxi2DrEF0iVt",
      "include_colab_link": true
    },
    "kernelspec": {
      "name": "python3",
      "display_name": "Python 3"
    },
    "language_info": {
      "name": "python"
    }
  },
  "cells": [
    {
      "cell_type": "markdown",
      "metadata": {
        "id": "view-in-github",
        "colab_type": "text"
      },
      "source": [
        "<a href=\"https://colab.research.google.com/github/Shriyanshmishra91/ii/blob/main/explainthe_key_featuresof_pythonthat_make_it_a_popular_choice_for_programingpynb.ipynb\" target=\"_parent\"><img src=\"https://colab.research.google.com/assets/colab-badge.svg\" alt=\"Open In Colab\"/></a>"
      ]
    },
    {
      "cell_type": "code",
      "execution_count": null,
      "metadata": {
        "id": "8v-iHBKDJG2C"
      },
      "outputs": [],
      "source": []
    },
    {
      "cell_type": "markdown",
      "source": [],
      "metadata": {
        "id": "7qM4fURyKCA8"
      }
    },
    {
      "cell_type": "markdown",
      "source": [
        "#whatis python?"
      ],
      "metadata": {
        "id": "xCBBrbu5KCBs"
      }
    },
    {
      "cell_type": "code",
      "source": [
        "\"python is programing lanuguage\""
      ],
      "metadata": {
        "colab": {
          "base_uri": "https://localhost:8080/",
          "height": 35
        },
        "id": "XkS1yLe-KJ6D",
        "outputId": "49fe5996-74ab-4299-9c86-78ab6a9389f3"
      },
      "execution_count": 1,
      "outputs": [
        {
          "output_type": "execute_result",
          "data": {
            "text/plain": [
              "'python is programing lanuguage'"
            ],
            "application/vnd.google.colaboratory.intrinsic+json": {
              "type": "string"
            }
          },
          "metadata": {},
          "execution_count": 1
        }
      ]
    },
    {
      "cell_type": "markdown",
      "source": [
        "#key feature of pythonthat make it a popular choice for progrminng?"
      ],
      "metadata": {
        "id": "fv72BNljK_KL"
      }
    },
    {
      "cell_type": "markdown",
      "source": [
        "1 Easy to use leran python has a simplesyntax that is easy leearnit makes it an ideal programing lanuagage"
      ],
      "metadata": {
        "id": "2gu9DrbhLhQr"
      }
    },
    {
      "cell_type": "code",
      "source": [
        "print(\"hello ninjas\")"
      ],
      "metadata": {
        "colab": {
          "base_uri": "https://localhost:8080/"
        },
        "id": "M6Em96ggLwqS",
        "outputId": "5586e546-5035-4f8d-a5bd-631119d22315"
      },
      "execution_count": null,
      "outputs": [
        {
          "output_type": "stream",
          "name": "stdout",
          "text": [
            "hello ninjas\n"
          ]
        }
      ]
    },
    {
      "cell_type": "markdown",
      "source": [
        "#2multi paradigm- pythonsupports multiplr programing paradigms . it allow devoleper a to chose the apporch by project object orintend programing is supported in python and devolper crtated resualbe code   for example like java c++ java scprit and"
      ],
      "metadata": {
        "id": "Vewwi7XANFsC"
      }
    },
    {
      "cell_type": "markdown",
      "source": [],
      "metadata": {
        "id": "6uqqeGteKzrs"
      }
    },
    {
      "cell_type": "code",
      "source": [
        "#object-orintend paradigram"
      ],
      "metadata": {
        "id": "Jdzn2Ap5RlvZ"
      },
      "execution_count": null,
      "outputs": []
    },
    {
      "cell_type": "markdown",
      "source": [
        "#3dymnaic typing"
      ],
      "metadata": {
        "id": "oqzD0flmVPFA"
      }
    },
    {
      "cell_type": "code",
      "source": [
        "X=10#xis an integer"
      ],
      "metadata": {
        "id": "oOn7QBueY7HA"
      },
      "execution_count": 3,
      "outputs": []
    },
    {
      "cell_type": "code",
      "source": [
        "x=\"hello\""
      ],
      "metadata": {
        "id": "MmYPDgCqZe3f"
      },
      "execution_count": 4,
      "outputs": []
    },
    {
      "cell_type": "markdown",
      "source": [
        "4 extnsive standrad library"
      ],
      "metadata": {
        "id": "qEXgt_tBVoQp"
      }
    },
    {
      "cell_type": "code",
      "source": [],
      "metadata": {
        "id": "lA6ZMkyLZriP"
      },
      "execution_count": null,
      "outputs": []
    }
  ]
}