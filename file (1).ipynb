{
  "nbformat": 4,
  "nbformat_minor": 0,
  "metadata": {
    "colab": {
      "provenance": [],
      "authorship_tag": "ABX9TyP9LG+g235n3qlsT8+tVQ7N",
      "include_colab_link": true
    },
    "kernelspec": {
      "name": "python3",
      "display_name": "Python 3"
    },
    "language_info": {
      "name": "python"
    }
  },
  "cells": [
    {
      "cell_type": "markdown",
      "metadata": {
        "id": "view-in-github",
        "colab_type": "text"
      },
      "source": [
        "<a href=\"https://colab.research.google.com/github/Shriyanshmishra91/a/blob/main/file.ipynb\" target=\"_parent\"><img src=\"https://colab.research.google.com/assets/colab-badge.svg\" alt=\"Open In Colab\"/></a>"
      ]
    },
    {
      "cell_type": "code",
      "execution_count": null,
      "metadata": {
        "id": "8hL2hHoB4oWs"
      },
      "outputs": [],
      "source": []
    },
    {
      "cell_type": "markdown",
      "source": [
        "what i"
      ],
      "metadata": {
        "id": "JLr1Jz3U4rGm"
      }
    },
    {
      "cell_type": "markdown",
      "source": [
        "what is deffrence between interpted and complied langaage ?\n",
        "\n",
        "\n",
        "Ans= The difference between interpted and complied languages  lies how soruce coded  is traslted int o machine code the code computer the understand\n",
        "\n",
        "\n",
        "Ques2\n",
        "what is exception handling python?\n",
        "\n",
        "\n",
        "Ans\n",
        "excaption hadling in python is way to errors  that occcurs  during the excutetion  of aprogram  so youer  program dosen not  crash unexcptedly.\n",
        "\n",
        "\n",
        "Ques3\n",
        "what is prupose in thje finnalyblack in exception  handling ?\n",
        "\n",
        "Ans  The finalyy block python exception handling  is used to derfine  code that always  runs  matters  what happend is the try and except is raised or not .\n",
        "\n",
        " purose finally\n",
        "  to preforms  clean up action likw.\n",
        "\n",
        "  Ques 4 what logging puython ?\n",
        "\n",
        "  Ans=  python is word  to nrecord masseage  about  your parents  programs excuetion it helps . you track  even debing issues  and montior  behavior\n",
        "\n",
        "  Ques5\n",
        "\n",
        "  Ans Significent of the _del _method in python.\n",
        "   it is destecuctor  method  called when  an object  is about is destoryed  used cleanup .\n",
        "\n",
        "   Ques6\n",
        "\n",
        "   Ans Diffenent between import and from_import\n",
        "\n",
        "   import module  imports  ewgole module .\n",
        "\n",
        "   from module import  name  function class\n",
        "\n",
        "   Ques7\n",
        "\n",
        "   Ans  Uses mutiple except block or tuples syntax :\n",
        "  \n",
        "  Python except (type error, valvec errors):pass\n",
        "\n",
        "  Ques 8\n",
        "\n",
        "  Ans= It enuse the files is properly colsed after usec even  if an eerors .\n",
        "\n",
        "  Que 9\n",
        "\n",
        "  Ans\n",
        "  \n",
        "  Multitheading : mutiple thread  with in one process , sharing memory\n",
        "\n",
        "  Multiprocessing: multiple process with sperate memory , sutible for cpu based  takses\n",
        "\n",
        "  Ques10\n",
        "\n",
        "  Ans\n",
        "   helps debuing and tracking\n",
        "\n",
        "   allows categoring message by severity\n",
        "    logs can  be stoted  and analyged.\n",
        "    \n",
        "\n",
        "    Ques11\n",
        "\n",
        "    Ans Pyhon  automactily  mangee  memory  using prefers  counting  and gar gabage  collection  to  coolate  andf release memory.\n",
        "\n",
        "\n",
        "    Qus12\n",
        "\n",
        "    Ans try: wrap code taht might fail\n",
        "    excpect : handling  specfic or geranal exceptions\n",
        "    else runs if no exceptions\n",
        "    finally   run  always(clean code)\n",
        "\n",
        "    Ques13\n",
        "    \n",
        "\n",
        "    Ans= effienct memory  mangements\n",
        "    "
      ],
      "metadata": {
        "id": "DPxd7ZZt5ZTd"
      }
    },
    {
      "cell_type": "markdown",
      "source": [
        "Practical question.\n"
      ],
      "metadata": {
        "id": "MYksC-uMagIP"
      }
    },
    {
      "cell_type": "code",
      "source": [
        "# how can you open a file for writing in pyhon and write a string  to it?\n"
      ],
      "metadata": {
        "id": "ckeFY4A_IJ65"
      },
      "execution_count": null,
      "outputs": []
    },
    {
      "source": [
        "with open(\"example.txt\",\"w\") as file:\n",
        "  file.write(\"hello, this is a test.\") # Changed fiie to file to correct the typo"
      ],
      "cell_type": "code",
      "metadata": {
        "id": "-8Ey3jvZM5nI"
      },
      "execution_count": null,
      "outputs": []
    },
    {
      "cell_type": "code",
      "source": [
        "2# write a pyhon program to read the contents of file and print each line.\n",
        "\n"
      ],
      "metadata": {
        "colab": {
          "base_uri": "https://localhost:8080/"
        },
        "id": "T7_lL15LMJWq",
        "outputId": "8d7e260d-af88-4ff7-9d05-632e1fa6a464"
      },
      "execution_count": null,
      "outputs": [
        {
          "output_type": "execute_result",
          "data": {
            "text/plain": [
              "2"
            ]
          },
          "metadata": {},
          "execution_count": 5
        }
      ]
    },
    {
      "cell_type": "code",
      "source": [
        "with open(\"example.txt\",\"r\") as file:\n",
        "  lines=file.readlines()\n",
        "  for line in lines:\n",
        "    print(line.strip())"
      ],
      "metadata": {
        "colab": {
          "base_uri": "https://localhost:8080/"
        },
        "id": "dpqlB4YtNZHh",
        "outputId": "7471c94b-404f-41e2-db35-42d878792573"
      },
      "execution_count": null,
      "outputs": [
        {
          "output_type": "stream",
          "name": "stdout",
          "text": [
            "hello, this is a test.\n"
          ]
        }
      ]
    },
    {
      "cell_type": "code",
      "source": [
        "3# how would you handle a case where the  file  doesn't exsits while trying to  open  it for reading ?\n"
      ],
      "metadata": {
        "colab": {
          "base_uri": "https://localhost:8080/"
        },
        "id": "68Ze5e2DNqXh",
        "outputId": "a3780638-b2ac-4d5e-d8f5-d0aae2b32f34"
      },
      "execution_count": null,
      "outputs": [
        {
          "output_type": "execute_result",
          "data": {
            "text/plain": [
              "3"
            ]
          },
          "metadata": {},
          "execution_count": 7
        }
      ]
    },
    {
      "cell_type": "code",
      "source": [],
      "metadata": {
        "id": "5hscQeCVPIrp"
      },
      "execution_count": null,
      "outputs": []
    },
    {
      "cell_type": "code",
      "source": [
        "try:\n",
        "  with open(\"non_existent_file.txt\",\"r\") as file:\n",
        "    content=file.read()\n",
        "except FileNotFoundError:\n",
        "  print(\"file not found\")\n"
      ],
      "metadata": {
        "colab": {
          "base_uri": "https://localhost:8080/"
        },
        "id": "-1U-r09yOUgo",
        "outputId": "c7aa2b8c-af68-4639-d1b1-5d548246bd1f"
      },
      "execution_count": null,
      "outputs": [
        {
          "output_type": "stream",
          "name": "stdout",
          "text": [
            "file not found\n"
          ]
        }
      ]
    },
    {
      "cell_type": "code",
      "source": [
        "4#write apython  scrpit  that reads from one file and writes its content to another file.\n"
      ],
      "metadata": {
        "colab": {
          "base_uri": "https://localhost:8080/"
        },
        "id": "4bO_dGcRaqoQ",
        "outputId": "2dae970e-84b1-4af1-eb70-a218e0c671e2"
      },
      "execution_count": null,
      "outputs": [
        {
          "output_type": "execute_result",
          "data": {
            "text/plain": [
              "4"
            ]
          },
          "metadata": {},
          "execution_count": 12
        }
      ]
    },
    {
      "source": [
        "# Create 'source.txt' and write some content to it\n",
        "with open(\"source.txt\", \"w\") as src:\n",
        "    src.write(\"This is the content of source.txt.\\n\")\n",
        "    src.write(\"This is another line.\\n\")\n",
        "\n",
        "# Now, the original code should work\n",
        "with open(\"source.txt\", \"r\") as src, open(\"destination.txt\", \"w\") as dst:\n",
        "    for line in src:\n",
        "        dst.write(line)  # Write the line to the destination file\n",
        "        # dst.write(line)  # This line was writing the same content twice, removed it"
      ],
      "cell_type": "code",
      "metadata": {
        "id": "1TgJItF0cxjR"
      },
      "execution_count": null,
      "outputs": []
    },
    {
      "cell_type": "code",
      "source": [
        "5#how  would  you catch  a handle a  division by zerro errors"
      ],
      "metadata": {
        "colab": {
          "base_uri": "https://localhost:8080/"
        },
        "id": "JiYHrzuQc4IR",
        "outputId": "8320e254-f25c-45ac-98a4-2ea5be4416e7"
      },
      "execution_count": null,
      "outputs": [
        {
          "output_type": "execute_result",
          "data": {
            "text/plain": [
              "5"
            ]
          },
          "metadata": {},
          "execution_count": 17
        }
      ]
    },
    {
      "cell_type": "code",
      "source": [
        "try:\n",
        "  result=10/0\n",
        "except ZeroDivisionError:\n",
        "  print(\"cannot divide by zero\")"
      ],
      "metadata": {
        "colab": {
          "base_uri": "https://localhost:8080/"
        },
        "id": "qpGEZTwCc7Op",
        "outputId": "8f0eead7-125f-4aaf-92fa-39ee2658984a"
      },
      "execution_count": null,
      "outputs": [
        {
          "output_type": "stream",
          "name": "stdout",
          "text": [
            "cannot divide by zero\n"
          ]
        }
      ]
    },
    {
      "cell_type": "code",
      "source": [
        "6# write apython  programers that logs  can errrors message  to a log file  when a division is by zero exception  occurs.\n"
      ],
      "metadata": {
        "colab": {
          "base_uri": "https://localhost:8080/"
        },
        "id": "1lqnNhEudcCh",
        "outputId": "35e476b1-1f4f-4dab-e1af-20280e26f3bb"
      },
      "execution_count": null,
      "outputs": [
        {
          "output_type": "execute_result",
          "data": {
            "text/plain": [
              "6"
            ]
          },
          "metadata": {},
          "execution_count": 21
        }
      ]
    },
    {
      "source": [
        "import logging\n",
        "#configrure logging  to write to a file\n",
        "logging.basicConfig(filename='error.log',\n",
        "level=logging.ERROR,\n",
        "                     format='%(asctime)s-%(levelname)s-%(message)s')\n",
        "try:\n",
        "  result=10/0\n",
        "except ZeroDivisionError as e:\n",
        "  logging.error(\"zero division error occured:%s\", e)\n",
        "# The second try-except block was redundant and causing the error.\n",
        "# It has been removed and the import statement is now outside the try block."
      ],
      "cell_type": "code",
      "metadata": {
        "colab": {
          "base_uri": "https://localhost:8080/"
        },
        "id": "VnT3CHZCfOTy",
        "outputId": "ecbc0253-62fe-42d0-e2e6-9a643fb2b429"
      },
      "execution_count": null,
      "outputs": [
        {
          "output_type": "stream",
          "name": "stderr",
          "text": [
            "ERROR:root:zero division error occured:division by zero\n"
          ]
        }
      ]
    },
    {
      "cell_type": "code",
      "source": [
        "7# how do you  log information at differnt levels (info, errors, warings ) pythons  using  the loggg modules."
      ],
      "metadata": {
        "colab": {
          "base_uri": "https://localhost:8080/"
        },
        "id": "GKCNzKC0fU6J",
        "outputId": "4ec59ed6-a0c3-49ad-abdb-3e7d5aa883db"
      },
      "execution_count": null,
      "outputs": [
        {
          "output_type": "execute_result",
          "data": {
            "text/plain": [
              "7"
            ]
          },
          "metadata": {},
          "execution_count": 8
        }
      ]
    },
    {
      "cell_type": "code",
      "source": [
        "import logging\n",
        "logging.basicConfig(filename='error.log',\n",
        "level=logging.ERROR,\n",
        "                     format='%(asctime)s-%(levelname)s-%(message)s')"
      ],
      "metadata": {
        "id": "BzcY6wSvfjZB"
      },
      "execution_count": null,
      "outputs": []
    },
    {
      "cell_type": "code",
      "source": [
        "8# write a program to handle  a filew opening  errors using exception  handling.\n"
      ],
      "metadata": {
        "colab": {
          "base_uri": "https://localhost:8080/"
        },
        "id": "93dDlQ8EIT-1",
        "outputId": "2879f1a1-bbec-4e2d-c10c-4332c3fd8ec6"
      },
      "execution_count": null,
      "outputs": [
        {
          "output_type": "execute_result",
          "data": {
            "text/plain": [
              "8"
            ]
          },
          "metadata": {},
          "execution_count": 9
        }
      ]
    },
    {
      "cell_type": "code",
      "source": [
        "try:\n",
        "  with open(\"non_existent_file.txt\",\"r\") as file:\n",
        "    content=file.read()\n",
        "except FileNotFoundError:\n",
        "  print(\"file not found\")"
      ],
      "metadata": {
        "colab": {
          "base_uri": "https://localhost:8080/"
        },
        "id": "mQscFPWtIV_1",
        "outputId": "0e3e69ba-af73-4634-f2ed-6f4c40c9061c"
      },
      "execution_count": null,
      "outputs": [
        {
          "output_type": "stream",
          "name": "stdout",
          "text": [
            "file not found\n"
          ]
        }
      ]
    },
    {
      "cell_type": "code",
      "source": [
        "9# how can you read a file line by line store its content a list python?"
      ],
      "metadata": {
        "colab": {
          "base_uri": "https://localhost:8080/"
        },
        "id": "86dE9gEYIkMV",
        "outputId": "e7679c20-ded0-4fda-c5ac-9a5871c9ecc2"
      },
      "execution_count": null,
      "outputs": [
        {
          "output_type": "execute_result",
          "data": {
            "text/plain": [
              "9"
            ]
          },
          "metadata": {},
          "execution_count": 10
        }
      ]
    },
    {
      "source": [
        "import os\n",
        "\n",
        "file_path = \"example.txt\"  # Replace with the correct path\n",
        "\n",
        "if os.path.exists(file_path):\n",
        "    with open(file_path, \"r\") as file:\n",
        "        lines = file.readlines()\n",
        "    print(lines)\n",
        "else:\n",
        "    print(f\"File '{file_path}' does not exist.\")"
      ],
      "cell_type": "code",
      "metadata": {
        "colab": {
          "base_uri": "https://localhost:8080/"
        },
        "id": "45iAh7oXJvDU",
        "outputId": "36aed5cc-fa54-4cf5-84ff-4594982c3dee"
      },
      "execution_count": null,
      "outputs": [
        {
          "output_type": "stream",
          "name": "stdout",
          "text": [
            "File 'example.txt' does not exist.\n"
          ]
        }
      ]
    },
    {
      "cell_type": "code",
      "source": [
        "10# how can you append  data to an existing file in python ?"
      ],
      "metadata": {
        "colab": {
          "base_uri": "https://localhost:8080/"
        },
        "id": "XHJ0if8FJ98k",
        "outputId": "b5a0f038-46fa-4dc2-c911-263b2b2672ab"
      },
      "execution_count": null,
      "outputs": [
        {
          "output_type": "execute_result",
          "data": {
            "text/plain": [
              "10"
            ]
          },
          "metadata": {},
          "execution_count": 13
        }
      ]
    },
    {
      "cell_type": "code",
      "source": [
        "with open(\"example.txt\",\"a\") as file:\n",
        "  file.write(\"\\nAppending new line\")"
      ],
      "metadata": {
        "id": "7hkbqt2fKQuU"
      },
      "execution_count": null,
      "outputs": []
    },
    {
      "cell_type": "code",
      "source": [
        "11#write apython  program that uses a try excepted  block to handle  an error  when  attempting to acess a dictionary key that doesn't exsit.?"
      ],
      "metadata": {
        "colab": {
          "base_uri": "https://localhost:8080/"
        },
        "id": "pnK036tIK6YD",
        "outputId": "6c05567c-6793-4906-8e23-6194aac51d06"
      },
      "execution_count": null,
      "outputs": [
        {
          "output_type": "execute_result",
          "data": {
            "text/plain": [
              "11"
            ]
          },
          "metadata": {},
          "execution_count": 17
        }
      ]
    },
    {
      "cell_type": "code",
      "source": [
        "data={\"name\":\"alice\"}\n",
        "try:\n",
        "  print(data[\"age\"])\n",
        "except KeyError:\n",
        "  print(\"key 'age'not found in dictionary\")"
      ],
      "metadata": {
        "colab": {
          "base_uri": "https://localhost:8080/"
        },
        "id": "w01Ho_-cLh-M",
        "outputId": "f35f60d6-193f-43f3-c464-71f3f1342bd4"
      },
      "execution_count": null,
      "outputs": [
        {
          "output_type": "stream",
          "name": "stdout",
          "text": [
            "key 'age'not found in dictionary\n"
          ]
        }
      ]
    },
    {
      "cell_type": "code",
      "source": [
        "12# write  aprogram that desmonstrative using  multiple except  blocks  to handle differnt types of exceptions?\n"
      ],
      "metadata": {
        "colab": {
          "base_uri": "https://localhost:8080/"
        },
        "id": "riS4h8P_MZBq",
        "outputId": "d3f4a7cf-972f-4ed5-f24c-ce77358bc01d"
      },
      "execution_count": null,
      "outputs": [
        {
          "output_type": "execute_result",
          "data": {
            "text/plain": [
              "12"
            ]
          },
          "metadata": {},
          "execution_count": 27
        }
      ]
    },
    {
      "source": [
        "try:\n",
        "    num = int(\"abc\")  # This will raise a ValueError\n",
        "    result = 10 / 0  # This will raise a ZeroDivisionError\n",
        "except ValueError:\n",
        "    print(\"Invalid input, not an integer\")\n",
        "except ZeroDivisionError:\n",
        "    print(\"Cannot divide by zero.\")  # This line was not indented correctly\n",
        "# The redundant try-except block and unnecessary 'pass' statement have been removed"
      ],
      "cell_type": "code",
      "metadata": {
        "colab": {
          "base_uri": "https://localhost:8080/"
        },
        "id": "XKBG66HoPr_h",
        "outputId": "8dc1c951-d01b-43be-ae52-34c1a07a00ea"
      },
      "execution_count": null,
      "outputs": [
        {
          "output_type": "stream",
          "name": "stdout",
          "text": [
            "Invalid input, not an integer\n"
          ]
        }
      ]
    },
    {
      "cell_type": "code",
      "source": [
        "13# how  would  you check the file  exist  beforec attmpting  to read in python?"
      ],
      "metadata": {
        "colab": {
          "base_uri": "https://localhost:8080/"
        },
        "id": "-DW-BDHqP0lp",
        "outputId": "d9f48549-3cee-481a-dbb7-78c3b6e19c9e"
      },
      "execution_count": null,
      "outputs": [
        {
          "output_type": "execute_result",
          "data": {
            "text/plain": [
              "13"
            ]
          },
          "metadata": {},
          "execution_count": 11
        }
      ]
    },
    {
      "cell_type": "code",
      "source": [
        "import os\n",
        "if os.path.exists(\"example.txt\"):\n",
        "  with open(\"example.txt\",\"r\") as file:\n",
        "    print(file.read())\n",
        "else:\n",
        "  print(\"file  does not exist\")"
      ],
      "metadata": {
        "colab": {
          "base_uri": "https://localhost:8080/"
        },
        "id": "vwAuRgieP36Y",
        "outputId": "06025243-ec01-42eb-8c58-ce7cdb608258"
      },
      "execution_count": null,
      "outputs": [
        {
          "output_type": "stream",
          "name": "stdout",
          "text": [
            "file  does not exist\n"
          ]
        }
      ]
    },
    {
      "cell_type": "code",
      "source": [
        "14# write  a program   that uses   logging module both  information  and error message."
      ],
      "metadata": {
        "colab": {
          "base_uri": "https://localhost:8080/"
        },
        "id": "XxvQ8q-2RFVK",
        "outputId": "70316dda-6040-4afc-b9fd-7a2470c66ee0"
      },
      "execution_count": null,
      "outputs": [
        {
          "output_type": "execute_result",
          "data": {
            "text/plain": [
              "14"
            ]
          },
          "metadata": {},
          "execution_count": 12
        }
      ]
    },
    {
      "cell_type": "code",
      "source": [
        "\n",
        "import logging\n",
        "logging.basicConfig(filename='app.log', level=logging.DEBUG)\n",
        "logging.info(\"start the application\")\n",
        "try:\n",
        "  1/0\n",
        "except ZeroDivisionError:\n",
        "    logging.error(\"Attempted to divide by zero\")"
      ],
      "metadata": {
        "colab": {
          "base_uri": "https://localhost:8080/"
        },
        "id": "sYM-hTCcRG0I",
        "outputId": "872ac63c-84b9-44ef-ba53-4a186ecf6991"
      },
      "execution_count": null,
      "outputs": [
        {
          "output_type": "stream",
          "name": "stderr",
          "text": [
            "ERROR:root:Attempted to divide by zero\n"
          ]
        }
      ]
    },
    {
      "cell_type": "code",
      "source": [
        "15# write a python  program in python  that prints  the content  a file handle  the casec  when the file is empty?\n"
      ],
      "metadata": {
        "colab": {
          "base_uri": "https://localhost:8080/"
        },
        "id": "wy1qoc2LS2dp",
        "outputId": "89b24d01-fd72-4c4b-953c-162c53633d84"
      },
      "execution_count": null,
      "outputs": [
        {
          "output_type": "execute_result",
          "data": {
            "text/plain": [
              "15"
            ]
          },
          "metadata": {},
          "execution_count": 14
        }
      ]
    },
    {
      "source": [
        "import os\n",
        "\n",
        "file_path = \"example.txt\"  # Or the correct path to the file\n",
        "\n",
        "if os.path.exists(file_path):\n",
        "    with open(file_path, \"r\") as file:\n",
        "        content = file.read()\n",
        "        if content:  # corrected the indentation here\n",
        "            print(content)\n",
        "        else:\n",
        "            print(\"file is empty\")\n",
        "else:\n",
        "    print(f\"File '{file_path}' does not exist.\")"
      ],
      "cell_type": "code",
      "metadata": {
        "colab": {
          "base_uri": "https://localhost:8080/"
        },
        "id": "9mezgib0UF_m",
        "outputId": "83584dde-60e9-4678-b89f-4018a6389158"
      },
      "execution_count": null,
      "outputs": [
        {
          "output_type": "stream",
          "name": "stdout",
          "text": [
            "File 'example.txt' does not exist.\n"
          ]
        }
      ]
    },
    {
      "cell_type": "code",
      "source": [
        "16# Demonstrative  how  to use   memory  profiiling   to check the usage memory  usage  of a small program.\n"
      ],
      "metadata": {
        "colab": {
          "base_uri": "https://localhost:8080/"
        },
        "id": "eZN_18SLT3te",
        "outputId": "880377ed-fb72-4f9a-c501-dc6fe8678b07"
      },
      "execution_count": null,
      "outputs": [
        {
          "output_type": "execute_result",
          "data": {
            "text/plain": [
              "16"
            ]
          },
          "metadata": {},
          "execution_count": 49
        }
      ]
    },
    {
      "source": [
        "!pip install memory_profiler\n",
        " #you need  to install  memory_ profiler via pip\n",
        "from memory_profiler import profile # Import the 'profile' decorator\n",
        "\n",
        "@profile\n",
        "def my_function():\n",
        "    a = [1, 2, 3]  # Define list 'a'\n",
        "    b = [4, 5, 6]  # Define list 'b'\n",
        "    a[1] * 10000\n",
        "    b[2] * 20000\n",
        "    del b\n",
        "    return a\n",
        "\n",
        "my_function() # Call the function after defining it"
      ],
      "cell_type": "code",
      "metadata": {
        "colab": {
          "base_uri": "https://localhost:8080/"
        },
        "id": "HCPlcah0YYDd",
        "outputId": "228ada17-d499-4ce2-adc8-c741ddc7b2bd"
      },
      "execution_count": null,
      "outputs": [
        {
          "output_type": "stream",
          "name": "stdout",
          "text": [
            "Requirement already satisfied: memory_profiler in /usr/local/lib/python3.11/dist-packages (0.61.0)\n",
            "Requirement already satisfied: psutil in /usr/local/lib/python3.11/dist-packages (from memory_profiler) (5.9.5)\n"
          ]
        },
        {
          "output_type": "stream",
          "name": "stderr",
          "text": [
            "\n",
            "PYDEV DEBUGGER WARNING:\n",
            "sys.settrace() should not be used when the debugger is being used.\n",
            "This may cause the debugger to stop working correctly.\n",
            "If this is needed, please check: \n",
            "http://pydev.blogspot.com/2007/06/why-cant-pydev-debugger-work-with.html\n",
            "to see how to restore the debug tracing back correctly.\n",
            "Call Location:\n",
            "  File \"/usr/local/lib/python3.11/dist-packages/memory_profiler.py\", line 847, in enable\n",
            "    sys.settrace(self.trace_memory_usage)\n",
            "\n",
            "\n",
            "PYDEV DEBUGGER WARNING:\n",
            "sys.settrace() should not be used when the debugger is being used.\n",
            "This may cause the debugger to stop working correctly.\n",
            "If this is needed, please check: \n",
            "http://pydev.blogspot.com/2007/06/why-cant-pydev-debugger-work-with.html\n",
            "to see how to restore the debug tracing back correctly.\n",
            "Call Location:\n",
            "  File \"/usr/local/lib/python3.11/dist-packages/memory_profiler.py\", line 850, in disable\n",
            "    sys.settrace(self._original_trace_function)\n",
            "\n"
          ]
        },
        {
          "output_type": "stream",
          "name": "stdout",
          "text": [
            "ERROR: Could not find file <ipython-input-51-c28d360cf0fb>\n",
            "NOTE: %mprun can only be used on functions defined in physical files, and not in the IPython environment.\n"
          ]
        },
        {
          "output_type": "execute_result",
          "data": {
            "text/plain": [
              "[1, 2, 3]"
            ]
          },
          "metadata": {},
          "execution_count": 51
        }
      ]
    },
    {
      "cell_type": "code",
      "source": [
        "#17wriite  a pyhon  program to create  and  write list  of numbers to a file  onr"
      ],
      "metadata": {
        "id": "C_pCSewxYpaF"
      },
      "execution_count": null,
      "outputs": []
    },
    {
      "source": [
        "# Original: number[1,2,3,4,5]\n",
        "numbers = [1, 2, 3, 4, 5]  # Changed 'number' to 'numbers' to define the list\n",
        "with open(\"number.txt\", \"w\") as file:\n",
        "    for num in numbers:\n",
        "        file.write(str(num))"
      ],
      "cell_type": "code",
      "metadata": {
        "id": "TG7jpj-xaQWn"
      },
      "execution_count": null,
      "outputs": []
    },
    {
      "cell_type": "code",
      "source": [
        "18# write   a program  that handles  both index errors  and key errors  using try a excpet block.\n"
      ],
      "metadata": {
        "colab": {
          "base_uri": "https://localhost:8080/"
        },
        "id": "Qaf4xbDqaFnz",
        "outputId": "fcec74bb-ac52-4516-d966-acf34b574b93"
      },
      "execution_count": null,
      "outputs": [
        {
          "output_type": "execute_result",
          "data": {
            "text/plain": [
              "18"
            ]
          },
          "metadata": {},
          "execution_count": 18
        }
      ]
    },
    {
      "source": [
        "import logging\n",
        "from logging.handlers import RotatingFileHandler\n",
        "\n",
        "handler = RotatingFileHandler(\"app.log\", maxBytes=1048576, backupCount=5)\n",
        "logger = logging.getLogger()  # Changed 'Logger' to 'logger' to match usage\n",
        "logger.setLevel(logging.INFO)  # Now using the correctly assigned 'logger'\n",
        "logger.addHandler(handler)\n",
        "logger.info(\"hello world\")"
      ],
      "cell_type": "code",
      "metadata": {
        "colab": {
          "base_uri": "https://localhost:8080/"
        },
        "id": "m5DTcFwob4ir",
        "outputId": "dfbfebdf-9d88-47b9-8e17-629271bf4661"
      },
      "execution_count": null,
      "outputs": [
        {
          "output_type": "stream",
          "name": "stderr",
          "text": [
            "INFO:root:hello world\n"
          ]
        }
      ]
    },
    {
      "cell_type": "code",
      "source": [
        "21\n",
        "#write a python program that reads the a file prints number occurence of a sepfic  words ."
      ],
      "metadata": {
        "colab": {
          "base_uri": "https://localhost:8080/"
        },
        "id": "NAZF_vanBNAK",
        "outputId": "9c934b93-89cf-43fa-c9ef-d7f191c18473"
      },
      "execution_count": null,
      "outputs": [
        {
          "output_type": "execute_result",
          "data": {
            "text/plain": [
              "21"
            ]
          },
          "metadata": {},
          "execution_count": 2
        }
      ]
    },
    {
      "cell_type": "markdown",
      "source": [],
      "metadata": {
        "id": "v8oCC00QbAQj"
      }
    },
    {
      "source": [
        "words_to_count = \"python\"\n",
        "count = 0\n",
        "\n",
        "# Create the file if it doesn't exist and write some initial content\n",
        "with open(\"example.txt\", \"w\") as f:\n",
        "    f.write(\"This is an example file with the word python in it.\\n\")\n",
        "\n",
        "# Now open the file in read mode\n",
        "with open(\"example.txt\", \"r\") as file:\n",
        "    for line in file:\n",
        "        count += line.count(words_to_count)\n",
        "    print(f\"The word '{words_to_count}' occurred {count} times\")"
      ],
      "cell_type": "code",
      "metadata": {
        "colab": {
          "base_uri": "https://localhost:8080/"
        },
        "id": "su1PPIzIDzUz",
        "outputId": "432cff3e-e889-47c7-eb91-84d8dd75a197"
      },
      "execution_count": null,
      "outputs": [
        {
          "output_type": "stream",
          "name": "stdout",
          "text": [
            "The word 'python' occurred 1 times\n"
          ]
        }
      ]
    }
  ]
}