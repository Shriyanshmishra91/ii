{
  "nbformat": 4,
  "nbformat_minor": 0,
  "metadata": {
    "colab": {
      "provenance": [],
      "name": "assiment3.ipynb"
    },
    "kernelspec": {
      "name": "python3",
      "display_name": "Python 3"
    },
    "language_info": {
      "name": "python"
    }
  },
  "cells": [
    {
      "cell_type": "markdown",
      "source": [
        "Ques1\n",
        " whatis differnt a beetween  a function a method in python ?\n",
        "\n",
        "Ans function is   a block ofcv code which preformance  p cspefic computer\n",
        " # use method in python\n",
        "\n",
        " #def greeting(name) \"helllo   world\"\n",
        " print(\"welcome in  office,)"
      ],
      "metadata": {
        "id": "ervRNmXXI9SK"
      }
    },
    {
      "cell_type": "markdown",
      "source": [],
      "metadata": {
        "id": "SM4LEHDmtCSt"
      }
    },
    {
      "cell_type": "markdown",
      "source": [
        "Ques2  Explain the conpect  of function  arugments and pramters  in python .?\n",
        "Ans=\n",
        "\n",
        "\n",
        "\n",
        "pramters are  the verible that are f defined  in the function singurture  they act plkace holder  for the valves  tat wii be  passed  to the fuction  when itbv  caallled\n",
        ". for expmple in def grret( name); name is paramters\n",
        "Arugments"
      ],
      "metadata": {
        "id": "dyfueDjHJYya"
      }
    },
    {
      "cell_type": "markdown",
      "source": [
        "  what are the differnt  ways to  dfine  and a call a function in python function?\n",
        "\n",
        "  ANS= the diffrent common ways to define a function in python.\n",
        "     \n",
        "     1\n",
        "using def key word\n",
        "#def greet(name):\n",
        "\"\"\"\n",
        "this function grets the person passsed is an a pramter\n",
        "print(f\"helllo,{name}!)\n",
        "\n",
        "\n",
        " callining function\n",
        "  greets (\"alice\") #ouput : hello ,alice!\n",
        "\n",
        "   lambda function  x:x*x\n",
        "\n",
        "   print(square(s) # out put :25"
      ],
      "metadata": {
        "id": "5AvU8xBNiCoH"
      }
    },
    {
      "cell_type": "markdown",
      "source": [
        "ques=4 what  is the purpose of the retrun satements  in python?.\n",
        "\n",
        "Ans= the return  satement is back to valve and retun list"
      ],
      "metadata": {
        "id": "HqGw-3BjmOFW"
      }
    },
    {
      "cell_type": "code",
      "source": [
        "def return_string(x, ariesx):\n",
        "    pass"
      ],
      "metadata": {
        "id": "unwQqsheojge"
      },
      "execution_count": null,
      "outputs": []
    },
    {
      "cell_type": "code",
      "source": [
        "print(return_string)\n"
      ],
      "metadata": {
        "colab": {
          "base_uri": "https://localhost:8080/"
        },
        "id": "-Mh4fKYNo1U2",
        "outputId": "ea23ba46-cbf7-4f9c-c9e4-c6a6a1bf325e"
      },
      "execution_count": null,
      "outputs": [
        {
          "output_type": "stream",
          "name": "stdout",
          "text": [
            "<function return_string at 0x7ea101c16fc0>\n"
          ]
        }
      ]
    },
    {
      "cell_type": "markdown",
      "source": [
        "Ques=5 what are iterators in python  and how  do they  diifer from  iteratible?\n",
        "\n",
        "\n",
        "Ans=Itrators an iterators is aobject  repersting  a stram of data  through elements of itrable ,string using alooop  the proccess of retuning elements one by one itration .forvis a process of looping throughbthe\n",
        "\n",
        "# anlogy\n",
        "#patato(itrable) itcan be not used cooked in orginal.\n",
        "\n",
        "\n",
        "Itertable an iterable  is an python objectvsequnece data that is capable of retrun its members ship pernutting it to bee overv i n alooop exammples >> list tuples setv as always informleytt say then aer iterable  pyython object renove using while loop .\n",
        "\n",
        "for in 6:   \n",
        "\n",
        "print (i)\n",
        "TYpe  error cell[]i lin 1for 16 print\n",
        "\n",
        "\n",
        "question6  explain the concpect  of generators in python how they  are defined?\n",
        "\n",
        "\n",
        "Ans=Generator takes a liist and give some def of each of list senice its retruning in one go memory usage  wii be error   def square -number usage.  result=[]\n",
        "\n",
        "result.append (i** 2)\n",
        "\n",
        "retrun result\n",
        "saquare of each the list (number([5,10,15,25,100,225)\n",
        "\n",
        "# can we have something to genarte insted of one go my yieeld >> gernal function  user satementb but a genartors function use yield sate\n",
        "\n",
        "# def square _number _generators (n)\n",
        "for in a range (n)m yield\n",
        "\n",
        "gneratords object square number at ox7b  faci4ic40>\n",
        "\n"
      ],
      "metadata": {
        "id": "35QQe6YJpUlm"
      }
    },
    {
      "cell_type": "code",
      "source": [
        "def square_number_generators(n):\n",
        "    for i in range(n):\n",
        "        yield i**2"
      ],
      "metadata": {
        "id": "HSripx19yJlN"
      },
      "execution_count": null,
      "outputs": []
    },
    {
      "cell_type": "code",
      "source": [
        "print(square_number_generators)"
      ],
      "metadata": {
        "id": "im6sQKQ_yo61",
        "colab": {
          "base_uri": "https://localhost:8080/"
        },
        "outputId": "96367880-3684-4f9f-c5b6-46e2aa119fea"
      },
      "execution_count": null,
      "outputs": [
        {
          "output_type": "stream",
          "name": "stdout",
          "text": [
            "<function square_number_generators at 0x7a40a37d5620>\n"
          ]
        }
      ]
    },
    {
      "cell_type": "markdown",
      "source": [
        "Ques=7what are advantage  of using generators over regular functions.?\n",
        "\n",
        "\n",
        "Ans= geneterators offer serval key advantage  over vregular functions ,particullary when dealing\n",
        " with lare date or sequnce.\n",
        "\n",
        " Quest=8   what is a lamda function in python and when its  typically used?\n",
        "\n",
        " Ans=lamda  areguments : exprees no nneeed of retrun satetment and def keyword\n"
      ],
      "metadata": {
        "id": "4DYK1hCr7CLD"
      }
    },
    {
      "cell_type": "code",
      "source": [
        "#lambda aregument: exprssion>> no  need of return satements and def keyword."
      ],
      "metadata": {
        "id": "FN_bOVMg8US0"
      },
      "execution_count": null,
      "outputs": []
    },
    {
      "cell_type": "code",
      "source": [
        "def saqure(x):\n",
        "    returnx**(2) #added space between 'return and'x'\n"
      ],
      "metadata": {
        "id": "9nZDpdQa9_-u"
      },
      "execution_count": null,
      "outputs": []
    },
    {
      "cell_type": "code",
      "source": [
        "add_number = lambda x, y: x + y"
      ],
      "metadata": {
        "id": "dLGcOAob-XpU"
      },
      "execution_count": null,
      "outputs": []
    },
    {
      "cell_type": "code",
      "source": [
        "print(add_number(5, 7))"
      ],
      "metadata": {
        "colab": {
          "base_uri": "https://localhost:8080/"
        },
        "id": "b9w4-afB-qO1",
        "outputId": "c90e0f78-3296-48f7-dd9a-7e652868ddbb"
      },
      "execution_count": null,
      "outputs": [
        {
          "output_type": "stream",
          "name": "stdout",
          "text": [
            "12\n"
          ]
        }
      ]
    },
    {
      "cell_type": "code",
      "source": [
        "#sort the list  based  length of elements of the list ."
      ],
      "metadata": {
        "id": "AP4eavA0_2D2"
      },
      "execution_count": null,
      "outputs": []
    },
    {
      "cell_type": "code",
      "source": [
        "#lambda,x len(x)\n",
        "\n"
      ],
      "metadata": {
        "id": "fDO1GVxVAQcE"
      },
      "execution_count": null,
      "outputs": []
    },
    {
      "cell_type": "code",
      "source": [
        "len('ajay')"
      ],
      "metadata": {
        "colab": {
          "base_uri": "https://localhost:8080/"
        },
        "id": "qylSjQhfAff8",
        "outputId": "d1c2c18d-c598-4bdf-a3ff-7cb2519a03e6"
      },
      "execution_count": null,
      "outputs": [
        {
          "output_type": "execute_result",
          "data": {
            "text/plain": [
              "4"
            ]
          },
          "metadata": {},
          "execution_count": 22
        }
      ]
    },
    {
      "cell_type": "code",
      "source": [
        "#foctoreal of 5.(5= 5*4*3*2 and 0,1 is 1)"
      ],
      "metadata": {
        "id": "aOB6FdFXArxk"
      },
      "execution_count": null,
      "outputs": []
    },
    {
      "cell_type": "code",
      "source": [
        "def fact(n):\n",
        "    if n == 0:\n",
        "        return 1\n",
        "    else:\n",
        "        return n * fact(n-1)"
      ],
      "metadata": {
        "id": "rM-ogq2nBA9l"
      },
      "execution_count": null,
      "outputs": []
    },
    {
      "cell_type": "code",
      "source": [
        "fact(5) #changed' retrun_fact' 'to' call the correct function"
      ],
      "metadata": {
        "colab": {
          "base_uri": "https://localhost:8080/"
        },
        "id": "rGGU-ElsBYws",
        "outputId": "83347635-6737-48b8-ef1e-c2df500971f4"
      },
      "execution_count": null,
      "outputs": [
        {
          "output_type": "execute_result",
          "data": {
            "text/plain": [
              "120"
            ]
          },
          "metadata": {},
          "execution_count": 30
        }
      ]
    },
    {
      "cell_type": "code",
      "source": [],
      "metadata": {
        "id": "Bzu7ebMMBwu8"
      },
      "execution_count": null,
      "outputs": []
    },
    {
      "cell_type": "markdown",
      "source": [
        "Ques 9 explain the  prupose usage of the map()  function in python?\n",
        "\n",
        "Ams=map excuess a sepecfied function for each of iiterm of an syntax map fuinction is iterabile that  usinf arumentsfrom each of iterable  stop when  the storts  iterable exhausted .\n"
      ],
      "metadata": {
        "id": "371lbpnXCRQ-"
      }
    },
    {
      "cell_type": "code",
      "source": [
        "#methods define here"
      ],
      "metadata": {
        "id": "VSJCQdUGDONN"
      },
      "execution_count": null,
      "outputs": []
    },
    {
      "cell_type": "code",
      "source": [
        "def getattr_self(self, name):\n",
        "    return getattr(self, name)"
      ],
      "metadata": {
        "id": "xzxEdpWBEG-c"
      },
      "execution_count": null,
      "outputs": []
    },
    {
      "cell_type": "markdown",
      "source": [
        "Ques10 what  is differnce between 'map() reduce(), and filter  function in python\n",
        "\n",
        "ans= map is a excusses  a spefic function for each  of item of an iterable like as syntax make a itterors  thath computers thr function using arument from each of itrables stops when the iterables , stops when  tthe stortest iterable exhaust.\n",
        "\n",
        "Reduce is folding syntax  from function import reduce wiill always take two arguments.\n",
        "\n",
        "Filter function  it  used to filter  elements based somec come back  syanytax  filter functionfunction, ierable."
      ],
      "metadata": {
        "id": "rIZmm__9GD1W"
      }
    },
    {
      "cell_type": "code",
      "source": [],
      "metadata": {
        "id": "F2fWwBVGKuJN"
      },
      "execution_count": null,
      "outputs": []
    },
    {
      "cell_type": "markdown",
      "source": [
        "Ques= 11 using pen&  Paper write the international meachinsm for sum operation using reduce fuction on  the given list[47,11, 42 ,13]:\n",
        "\n",
        "Ans=the reduce  function  takes t two main  arguments:\n",
        "\n",
        " 1  a function : this  fun ction  operates on two  elements  at a time  in the  case  were  using  a lambda  x,y : x+y. this  function  simply  adds two  numbers  together.\n",
        "\n",
        " 2 an iterable .this isthe list of the numbers  we can process [47,11,42,13]\n",
        "\n",
        "  step-by step internal mechsim\n",
        "\n",
        "1 Intilization : reduce starts by taking thec first  two elements  from list .47 and 11\n",
        "\n",
        "2 first iteration :  it applies the lambda  function  to these  elemnts : 47+11 = 58  this result (58) become  the accumalted  valve.\n",
        "\n",
        "3 second iteration : reduce takes  the accumleted  valve(58) and thec next elements  from(42).\n",
        "\n",
        "4 apply function : It applies  the lambda  function 58 + 42= 100 this is new result (100) become the accumalted valve\n",
        "\n",
        " 5 Thrid  iteration  reducec  takes the accumlated valve (100) the next (andlast) elements from the list (13).\n",
        "\n",
        "\n",
        "  \n",
        "  6 Fanil calucation \" it applies  the lambda  function  one laste time : 100 + 13 =113\n",
        "\n",
        " 7 Result: the final accumalted  valve 113 is the result  by thr reduce  function\n"
      ],
      "metadata": {
        "id": "R0ZHGfuh8R2r"
      }
    },
    {
      "cell_type": "code",
      "source": [
        " # partical question\n",
        "\n",
        " 1 # write a  python  function that takes a list of numbers  as input and returns the sum of all evevn number.\n",
        "\n"
      ],
      "metadata": {
        "id": "f0WK25C-FJUw",
        "colab": {
          "base_uri": "https://localhost:8080/"
        },
        "outputId": "c6602fea-f8d0-435e-aebb-376abdfc857f"
      },
      "execution_count": null,
      "outputs": [
        {
          "output_type": "execute_result",
          "data": {
            "text/plain": [
              "1"
            ]
          },
          "metadata": {},
          "execution_count": 1
        }
      ]
    },
    {
      "cell_type": "code",
      "source": [
        "def sum_even_numbers(numbers):\n",
        "    even_sum = 0\n",
        "    for num in numbers:\n",
        "        if num % 2 == 0:\n",
        "            even_sum += num\n",
        "    return even_sum\n",
        "\n"
      ],
      "metadata": {
        "id": "MS5t6chYIcYC"
      },
      "execution_count": null,
      "outputs": []
    },
    {
      "cell_type": "code",
      "source": [
        "#exmple usage\n",
        "number=[47,11,42,13]\n",
        "result = sum_even_numbers(numbers)\n",
        "print(\"sum of even numbers:\", result)"
      ],
      "metadata": {
        "colab": {
          "base_uri": "https://localhost:8080/"
        },
        "id": "56WjVwTFeqYc",
        "outputId": "63888c24-1999-4b9b-c01c-86f3592b0e8c"
      },
      "execution_count": null,
      "outputs": [
        {
          "output_type": "stream",
          "name": "stdout",
          "text": [
            "sum of even numbers: 12\n"
          ]
        }
      ]
    },
    {
      "cell_type": "code",
      "source": [
        "2#creat apython fuction that accpcts asring  and resverse of the string"
      ],
      "metadata": {
        "colab": {
          "base_uri": "https://localhost:8080/"
        },
        "id": "QrrZX8O0fBsK",
        "outputId": "0ca10010-492b-4a8f-fa26-b1d5dff34c95"
      },
      "execution_count": null,
      "outputs": [
        {
          "output_type": "execute_result",
          "data": {
            "text/plain": [
              "2"
            ]
          },
          "metadata": {},
          "execution_count": 15
        }
      ]
    },
    {
      "cell_type": "code",
      "source": [
        "my_string = \"hello world\"\n",
        "reversed_string = my_string[::-1]\n",
        "print(reversed_string)"
      ],
      "metadata": {
        "colab": {
          "base_uri": "https://localhost:8080/"
        },
        "id": "D2vvHfqwmBBF",
        "outputId": "f8996468-44be-4f3d-b113-33ae9e40fc93"
      },
      "execution_count": null,
      "outputs": [
        {
          "output_type": "stream",
          "name": "stdout",
          "text": [
            "dlrow olleh\n"
          ]
        }
      ]
    },
    {
      "cell_type": "code",
      "source": [
        "3#implement a python  takes alist  of intgers and return a new list contaning  the saquare of each numbers."
      ],
      "metadata": {
        "colab": {
          "base_uri": "https://localhost:8080/"
        },
        "id": "vhxsVw2AmUXF",
        "outputId": "e025481a-5c46-4d50-8fe2-a0eb3151710e"
      },
      "execution_count": null,
      "outputs": [
        {
          "output_type": "execute_result",
          "data": {
            "text/plain": [
              "3"
            ]
          },
          "metadata": {},
          "execution_count": 17
        }
      ]
    },
    {
      "cell_type": "code",
      "source": [
        "my_list = [1, 2, 3, 4, 5]\n",
        "squared_list = [x**2 for x in my_list]\n",
        "print(squared_list)"
      ],
      "metadata": {
        "colab": {
          "base_uri": "https://localhost:8080/"
        },
        "id": "lM9LKeqbnXtm",
        "outputId": "39f6c804-e47c-434e-acf9-97e749ec61e1"
      },
      "execution_count": null,
      "outputs": [
        {
          "output_type": "stream",
          "name": "stdout",
          "text": [
            "[1, 4, 9, 16, 25]\n"
          ]
        }
      ]
    },
    {
      "cell_type": "code",
      "source": [
        "4#wrie apython that checkif given numbes is prime 1to 200"
      ],
      "metadata": {
        "colab": {
          "base_uri": "https://localhost:8080/"
        },
        "id": "SCUM5DiznxKA",
        "outputId": "11a737d9-69c0-452a-8dc9-1286ee8f2f1e"
      },
      "execution_count": null,
      "outputs": [
        {
          "output_type": "execute_result",
          "data": {
            "text/plain": [
              "4"
            ]
          },
          "metadata": {},
          "execution_count": 19
        }
      ]
    },
    {
      "cell_type": "code",
      "source": [],
      "metadata": {
        "id": "RhSuj6xqvLXR"
      },
      "execution_count": null,
      "outputs": []
    },
    {
      "source": [
        "def is_prime(num):\n",
        "    \"\"\"\n",
        "    Checks if a number is prime.\n",
        "\n",
        "    Args:\n",
        "        num: The number to check.\n",
        "\n",
        "    Returns:\n",
        "        True if the number is prime, False otherwise.\n",
        "    \"\"\"\n",
        "    if num <= 1:\n",
        "        return False\n",
        "    for i in range(2, int(num**0.5) + 1):\n",
        "        if num % i == 0:\n",
        "            return False\n",
        "    return True\n",
        "\n",
        "\n",
        "def print_primes_in_range(start, end):\n",
        "    \"\"\"\n",
        "    Prints prime numbers within a given range.\n",
        "\n",
        "    Args:\n",
        "        start: The starting number of the range.\n",
        "        end: The ending number of the range.\n",
        "    \"\"\"\n",
        "    print(f\"Prime numbers from {start} to {end} are:\")\n",
        "    prime_numbers = [num for num in range(start, end + 1) if is_prime(num)]\n",
        "    print(prime_numbers)\n",
        "\n",
        "\n",
        "# Example usage:\n",
        "print_primes_in_range(1, 2000)"
      ],
      "cell_type": "code",
      "metadata": {
        "colab": {
          "base_uri": "https://localhost:8080/"
        },
        "id": "allpmUyZvM7Z",
        "outputId": "1adb5b50-a1e7-4bff-c4fb-bee5fb67e540"
      },
      "execution_count": null,
      "outputs": [
        {
          "output_type": "stream",
          "name": "stdout",
          "text": [
            "Prime numbers from 1 to 2000 are:\n",
            "[2, 3, 5, 7, 11, 13, 17, 19, 23, 29, 31, 37, 41, 43, 47, 53, 59, 61, 67, 71, 73, 79, 83, 89, 97, 101, 103, 107, 109, 113, 127, 131, 137, 139, 149, 151, 157, 163, 167, 173, 179, 181, 191, 193, 197, 199, 211, 223, 227, 229, 233, 239, 241, 251, 257, 263, 269, 271, 277, 281, 283, 293, 307, 311, 313, 317, 331, 337, 347, 349, 353, 359, 367, 373, 379, 383, 389, 397, 401, 409, 419, 421, 431, 433, 439, 443, 449, 457, 461, 463, 467, 479, 487, 491, 499, 503, 509, 521, 523, 541, 547, 557, 563, 569, 571, 577, 587, 593, 599, 601, 607, 613, 617, 619, 631, 641, 643, 647, 653, 659, 661, 673, 677, 683, 691, 701, 709, 719, 727, 733, 739, 743, 751, 757, 761, 769, 773, 787, 797, 809, 811, 821, 823, 827, 829, 839, 853, 857, 859, 863, 877, 881, 883, 887, 907, 911, 919, 929, 937, 941, 947, 953, 967, 971, 977, 983, 991, 997, 1009, 1013, 1019, 1021, 1031, 1033, 1039, 1049, 1051, 1061, 1063, 1069, 1087, 1091, 1093, 1097, 1103, 1109, 1117, 1123, 1129, 1151, 1153, 1163, 1171, 1181, 1187, 1193, 1201, 1213, 1217, 1223, 1229, 1231, 1237, 1249, 1259, 1277, 1279, 1283, 1289, 1291, 1297, 1301, 1303, 1307, 1319, 1321, 1327, 1361, 1367, 1373, 1381, 1399, 1409, 1423, 1427, 1429, 1433, 1439, 1447, 1451, 1453, 1459, 1471, 1481, 1483, 1487, 1489, 1493, 1499, 1511, 1523, 1531, 1543, 1549, 1553, 1559, 1567, 1571, 1579, 1583, 1597, 1601, 1607, 1609, 1613, 1619, 1621, 1627, 1637, 1657, 1663, 1667, 1669, 1693, 1697, 1699, 1709, 1721, 1723, 1733, 1741, 1747, 1753, 1759, 1777, 1783, 1787, 1789, 1801, 1811, 1823, 1831, 1847, 1861, 1867, 1871, 1873, 1877, 1879, 1889, 1901, 1907, 1913, 1931, 1933, 1949, 1951, 1973, 1979, 1987, 1993, 1997, 1999]\n"
          ]
        }
      ]
    },
    {
      "cell_type": "code",
      "source": [
        "#5 create an itrators class in python  that genartors the fibioncai squnce up a specficd numbersof  tems"
      ],
      "metadata": {
        "id": "w7R83q9N4RZP"
      },
      "execution_count": null,
      "outputs": []
    },
    {
      "source": [
        "class FibonacciIterator:\n",
        "    def __init__(self, num_terms):\n",
        "        self.num_terms = num_terms\n",
        "        self.count = 0\n",
        "        self.a, self.b = 0, 1\n",
        "\n",
        "    def __iter__(self):\n",
        "        return self\n",
        "\n",
        "    def __next__(self):\n",
        "        if self.count < self.num_terms:\n",
        "            result = self.a\n",
        "            self.a, self.b = self.b, self.a + self.b\n",
        "            self.count += 1\n",
        "            return result\n",
        "        else:\n",
        "            raise StopIteration\n",
        "\n",
        "# Example usage:\n",
        "fib_iter = FibonacciIterator(10)  # Generate 10 Fibonacci numbers\n",
        "for num in fib_iter:\n",
        "    print(num)"
      ],
      "cell_type": "code",
      "metadata": {
        "colab": {
          "base_uri": "https://localhost:8080/"
        },
        "id": "pAPyFoO37ddY",
        "outputId": "1e780e0f-a530-4822-d905-613e5b9d1329"
      },
      "execution_count": 1,
      "outputs": [
        {
          "output_type": "stream",
          "name": "stdout",
          "text": [
            "0\n",
            "1\n",
            "1\n",
            "2\n",
            "3\n",
            "5\n",
            "8\n",
            "13\n",
            "21\n",
            "34\n"
          ]
        }
      ]
    },
    {
      "cell_type": "code",
      "source": [
        "6# write a generators function in python that yield the power of 2 up given  exponent."
      ],
      "metadata": {
        "colab": {
          "base_uri": "https://localhost:8080/"
        },
        "id": "NIdxZMlb6x-n",
        "outputId": "88022d82-146a-4fb5-bbca-6aa5be744bbb"
      },
      "execution_count": null,
      "outputs": [
        {
          "output_type": "execute_result",
          "data": {
            "text/plain": [
              "6"
            ]
          },
          "metadata": {},
          "execution_count": 46
        }
      ]
    },
    {
      "cell_type": "code",
      "source": [
        "#yieldis crating a generators/iterots"
      ],
      "metadata": {
        "id": "aeYcqrRC8odH"
      },
      "execution_count": null,
      "outputs": []
    },
    {
      "cell_type": "code",
      "source": [],
      "metadata": {
        "id": "gJqRjNDA86TQ"
      },
      "execution_count": null,
      "outputs": []
    },
    {
      "source": [
        "def powers_of_2(exponent):\n",
        "    \"\"\"Yields the powers of 2 up to a given exponent.\n",
        "\n",
        "    Args:\n",
        "        exponent: The maximum exponent.\n",
        "\n",
        "    Yields:\n",
        "        The powers of 2.\n",
        "    \"\"\"\n",
        "    for i in range(exponent + 1):\n",
        "        yield 2 ** i\n",
        "\n",
        "# Example usage:\n",
        "for power in powers_of_2(5):\n",
        "    print(power)  # Output: 1, 2, 4, 8, 16, 32"
      ],
      "cell_type": "code",
      "metadata": {
        "colab": {
          "base_uri": "https://localhost:8080/"
        },
        "id": "eESRVjbm9Jvg",
        "outputId": "a9dd7414-1212-4811-f092-15600191b1b9"
      },
      "execution_count": null,
      "outputs": [
        {
          "output_type": "stream",
          "name": "stdout",
          "text": [
            "1\n",
            "2\n",
            "4\n",
            "8\n",
            "16\n",
            "32\n"
          ]
        }
      ]
    },
    {
      "cell_type": "code",
      "source": [
        "7#implement a generators that read afile  byline and yields each is string."
      ],
      "metadata": {
        "colab": {
          "base_uri": "https://localhost:8080/"
        },
        "id": "pxC4pSbI9MY5",
        "outputId": "d32a6cd6-07c0-4f0f-9caa-df1d186a2a14"
      },
      "execution_count": null,
      "outputs": [
        {
          "output_type": "execute_result",
          "data": {
            "text/plain": [
              "7"
            ]
          },
          "metadata": {},
          "execution_count": 49
        }
      ]
    },
    {
      "source": [
        "import os\n",
        "\n",
        "def read_file_line_by_line(file_path):\n",
        "    \"\"\"Reads a file line by line and yields each line as a string.\n",
        "\n",
        "    Args:\n",
        "        file_path: The path to the file.\n",
        "\n",
        "    Yields:\n",
        "        Each line of the file as a string.\n",
        "    \"\"\"\n",
        "    # Get the current working directory\n",
        "    current_directory = os.getcwd()\n",
        "    print(f\"Current working directory: {current_directory}\")\n",
        "\n",
        "    # Check if the file exists in the current directory\n",
        "    file_exists = os.path.exists(file_path)\n",
        "    if not file_exists:\n",
        "        print(f\"Error: File '{file_path}' not found in the current directory.\")\n",
        "        return  # Exit the function if the file is not found\n",
        "\n",
        "    with open(file_path, 'r') as file:\n",
        "        for line in file:\n",
        "            yield line.strip()  # Strip newline characters\n",
        "\n",
        "# Example usage:\n",
        "file_path = 'my_file.txt'  # Replace with your file path\n",
        "# Create the file if it does not exist.\n",
        "!touch my_file.txt\n",
        "for line in read_file_line_by_line(file_path):\n",
        "    print(line)  # Process each line here"
      ],
      "cell_type": "code",
      "metadata": {
        "colab": {
          "base_uri": "https://localhost:8080/"
        },
        "id": "7HWtC98W-jXh",
        "outputId": "51be60ac-fe19-42bd-8971-a5a0c7cd53a9"
      },
      "execution_count": null,
      "outputs": [
        {
          "output_type": "stream",
          "name": "stdout",
          "text": [
            "Current working directory: /content\n"
          ]
        }
      ]
    },
    {
      "cell_type": "code",
      "source": [
        "8# use  a lamdba function in python to sort a list a tuples based on the  second elements of each tuple."
      ],
      "metadata": {
        "colab": {
          "base_uri": "https://localhost:8080/"
        },
        "id": "tcOLg0PY-rQa",
        "outputId": "df79d6a1-c46c-486b-aba0-1cab31b01f83"
      },
      "execution_count": null,
      "outputs": [
        {
          "output_type": "execute_result",
          "data": {
            "text/plain": [
              "8"
            ]
          },
          "metadata": {},
          "execution_count": 54
        }
      ]
    },
    {
      "cell_type": "code",
      "source": [
        "#sort a list is tuple based  on the second elemmentof each tuples."
      ],
      "metadata": {
        "id": "FpzblCgw_hHS"
      },
      "execution_count": null,
      "outputs": []
    },
    {
      "cell_type": "code",
      "source": [
        "my_list = [(1, 5), (3, 2), (2, 8), (4, 1)]\n",
        "sorted_list = sorted(my_list, key=lambda x: x[1])\n",
        "print(sorted_list)\n",
        "#cell ipython -input-58-acc735e5dee8\n",
        "#asssuming'my_secondtuples' was meant to be ' sorted_list\n",
        "print(sorted_list)"
      ],
      "metadata": {
        "colab": {
          "base_uri": "https://localhost:8080/"
        },
        "id": "NU_g9eU8AZzL",
        "outputId": "a24bebbb-4d65-4b6d-92da-6b02997ca5d2"
      },
      "execution_count": null,
      "outputs": [
        {
          "output_type": "stream",
          "name": "stdout",
          "text": [
            "[(4, 1), (3, 2), (1, 5), (2, 8)]\n",
            "[(4, 1), (3, 2), (1, 5), (2, 8)]\n"
          ]
        }
      ]
    },
    {
      "cell_type": "code",
      "source": [],
      "metadata": {
        "id": "DVGWIdfzAvEh"
      },
      "execution_count": null,
      "outputs": []
    }
  ]
}