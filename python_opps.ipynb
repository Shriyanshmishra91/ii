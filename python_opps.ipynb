{
  "nbformat": 4,
  "nbformat_minor": 0,
  "metadata": {
    "colab": {
      "provenance": [],
      "toc_visible": true
    },
    "kernelspec": {
      "name": "python3",
      "display_name": "Python 3"
    },
    "language_info": {
      "name": "python"
    }
  },
  "cells": [
    {
      "cell_type": "code",
      "execution_count": null,
      "metadata": {
        "id": "wcGXinWI7lKI"
      },
      "outputs": [],
      "source": []
    },
    {
      "cell_type": "markdown",
      "source": [
        "python opps question"
      ],
      "metadata": {
        "id": "kTGBk5ATS1M6"
      }
    },
    {
      "cell_type": "markdown",
      "source": [
        "Ques1 what is object -orientend programing(opps)?\n",
        "\n",
        "Ans=object is oritenend programing paradigram based on the concpet object , which can contain data and code . the data is the from of fileds  and the code is the from of prodceress known as object- oritened  progrming . (opps) like class absectration objects\n",
        "\n",
        "\n",
        "Ques2 what is calss in opp?\n",
        "\n",
        "\n",
        "Ans=Class is a blueprint or template for cerating objects it defined the propties and the methods  that objects of that class will have . for example  a,\"car\" class define the propties like colours model and methodes like start , stops and acclerate .\n",
        "\n",
        "Ques3 what is objects in opp?\n",
        "\n",
        "Ans= Object opps : objects are instance of class that respresent real world entities.for examples a car can be  an objects  with propties like color , model , and model, and methods like start stop and acclerate.\n",
        "\n",
        "Ques4 what is the different between abstraction and encapsulation?\n",
        "\n",
        "Ans= Abstraction: hiding complex implemenatiton deatils and showing only essential informantionto the user .like using the start() method of the car without needing to know the engine's inner working.\n",
        "\n",
        "Enscapulation:bulinding data and methods that  operate on that data info a sing method untit typically a classor ob-ject\n",
        "\n",
        "\n",
        "Ques5 what are dunder methods in python?\n",
        "\n",
        "\n",
        " Ans= Dunder methods are specaial methods in python begin and end with dobule under score .\n",
        " example _init_,str,_length, they would provided a dfunction in function and should be opreators  theese method are allowed to python in deunder method.\n",
        "\n",
        "\n",
        " Ques explain the concpect of inheritance in opp?\n",
        "\n",
        " Ans=Inhertance refers to process of chile receveing the propties of pranetsclass syntax body of bassic class dervied class basic ,class ."
      ],
      "metadata": {
        "id": "iSzBhJSJ7mmf"
      }
    }
  ]
}